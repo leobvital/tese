{
 "cells": [
  {
   "cell_type": "markdown",
   "metadata": {},
   "source": [
    "# Plot small-interfering L1-norm solution"
   ]
  },
  {
   "cell_type": "markdown",
   "metadata": {},
   "source": [
    "This notebook plots the validation test for multiple inversions and the solution which produces the smallest goal function value for the L1-norm code."
   ]
  },
  {
   "cell_type": "code",
   "execution_count": 1,
   "metadata": {},
   "outputs": [],
   "source": [
    "import numpy as np\n",
    "import matplotlib as mpb\n",
    "import cPickle as pickle\n",
    "\n",
    "# show the figures in windows\n",
    "\n",
    "# show all the matplotlib backends \n",
    "#mpb.rcsetup.all_backends\n",
    "\n",
    "# force matplotlib to use the 'Qt5Agg' backend \n",
    "#mpb.use(arg='Qt5Agg', force=True)"
   ]
  },
  {
   "cell_type": "code",
   "execution_count": 2,
   "metadata": {},
   "outputs": [
    {
     "name": "stderr",
     "output_type": "stream",
     "text": [
      "/home/leonardo/anaconda2/lib/python2.7/site-packages/fatiando/vis/mpl.py:76: UserWarning: This module will be removed in v0.6. We recommend the use of matplotlib.pyplot module directly. Some of the fatiando specific functions will remain.\n",
      "  \"specific functions will remain.\")\n"
     ]
    }
   ],
   "source": [
    "# importing my functions\n",
    "import sys\n",
    "sys.path.insert(0, '../../code')\n",
    "\n",
    "import mag_polyprism_functions as mfun"
   ]
  },
  {
   "cell_type": "code",
   "execution_count": 3,
   "metadata": {},
   "outputs": [],
   "source": [
    "# importing the pickle file of results\n",
    "result_path = 'l1-tfa-inversion/multiple-44466-new/'\n",
    "\n",
    "with open(result_path+'inversion.pickle') as w:\n",
    "        inversion = pickle.load(w)"
   ]
  },
  {
   "cell_type": "code",
   "execution_count": 4,
   "metadata": {},
   "outputs": [
    {
     "name": "stdout",
     "output_type": "stream",
     "text": [
      "0 0.023549594108020093\n",
      "1 0.007362753222813246\n",
      "2 0.010696167815986727\n",
      "3 0.044463520338470286\n",
      "4 0.14051562780067509\n",
      "5 0.030255271283516176\n",
      "6 0.02660331620933904\n",
      "7 0.022010984679938887\n",
      "8 0.0025692697071603957\n",
      "9 0.020747053611731434\n",
      "10 0.019096305884043468\n",
      "11 0.0164641261332024\n",
      "12 0.012556992139370188\n",
      "13 0.005851221182794617\n",
      "14 0.007999570896206981\n",
      "15 0.0010623969005933566\n",
      "16 0.0009225910991378996\n"
     ]
    }
   ],
   "source": [
    "for i, (d0, d) in enumerate(zip(inversion['results'][17][1][1:], inversion['results'][17][1][:-1])):\n",
    "    print i, (d - d0)/d0"
   ]
  },
  {
   "cell_type": "code",
   "execution_count": 5,
   "metadata": {},
   "outputs": [
    {
     "data": {
      "text/plain": [
       "array([1.e-04, 1.e-04, 0.e+00, 0.e+00, 1.e-04, 1.e-06, 1.e-06])"
      ]
     },
     "execution_count": 5,
     "metadata": {},
     "output_type": "execute_result"
    }
   ],
   "source": [
    "inversion['regularization']"
   ]
  },
  {
   "cell_type": "code",
   "execution_count": 6,
   "metadata": {},
   "outputs": [],
   "source": [
    "# directory to save the figures\n",
    "filename = '../../manuscript/figures/diorama-l1-solution.png'\n",
    "#filename = ''"
   ]
  },
  {
   "cell_type": "code",
   "execution_count": 7,
   "metadata": {},
   "outputs": [
    {
     "data": {
      "text/plain": [
       "17"
      ]
     },
     "execution_count": 7,
     "metadata": {},
     "output_type": "execute_result"
    }
   ],
   "source": [
    "len(inversion['results'][67][1])"
   ]
  },
  {
   "cell_type": "code",
   "execution_count": 8,
   "metadata": {},
   "outputs": [
    {
     "data": {
      "text/plain": [
       "[264.03945829524054,\n",
       " 163.91952668456656,\n",
       " 163.21377886871517,\n",
       " 158.94854087034156,\n",
       " 142.95218124908973,\n",
       " 126.6528771343432,\n",
       " 126.03731153835062,\n",
       " 120.47979367954593,\n",
       " 117.62604477768743,\n",
       " 116.48577048936554,\n",
       " 116.29806551438222,\n",
       " 115.55787963130628,\n",
       " 114.91236444092182,\n",
       " 114.48173461790617,\n",
       " 114.24915983287406,\n",
       " 113.88337619050549,\n",
       " 113.77252925564466]"
      ]
     },
     "execution_count": 8,
     "metadata": {},
     "output_type": "execute_result"
    }
   ],
   "source": [
    "inversion['results'][67][1]"
   ]
  },
  {
   "cell_type": "code",
   "execution_count": 9,
   "metadata": {},
   "outputs": [
    {
     "data": {
      "text/plain": [
       "478200.0"
      ]
     },
     "execution_count": 9,
     "metadata": {},
     "output_type": "execute_result"
    }
   ],
   "source": [
    "inversion['results'][0][2][0][0].y[5]-1200"
   ]
  },
  {
   "cell_type": "code",
   "execution_count": 10,
   "metadata": {},
   "outputs": [],
   "source": [
    "z0 = inversion['z0']\n",
    "intensity = inversion['intensity']\n",
    "z0_plot, int_plot = np.meshgrid(z0, intensity)\n",
    "z0_plot = z0_plot.ravel()\n",
    "int_plot = int_plot.ravel()\n",
    "n = z0.size\n",
    "m = intensity.size\n",
    "N = inversion['x'].size"
   ]
  },
  {
   "cell_type": "code",
   "execution_count": 11,
   "metadata": {},
   "outputs": [],
   "source": [
    "# building the matrix of the goal function\n",
    "gamma_matrix = mfun.goal_matrix(n, m, inversion['results'])"
   ]
  },
  {
   "cell_type": "code",
   "execution_count": 12,
   "metadata": {},
   "outputs": [
    {
     "data": {
      "text/plain": [
       "113.6333143882052"
      ]
     },
     "execution_count": 12,
     "metadata": {},
     "output_type": "execute_result"
    }
   ],
   "source": [
    "np.min(gamma_matrix)"
   ]
  },
  {
   "cell_type": "code",
   "execution_count": 13,
   "metadata": {},
   "outputs": [
    {
     "data": {
      "text/plain": [
       "56"
      ]
     },
     "execution_count": 13,
     "metadata": {},
     "output_type": "execute_result"
    }
   ],
   "source": [
    "np.argmin(gamma_matrix)"
   ]
  },
  {
   "cell_type": "code",
   "execution_count": 14,
   "metadata": {},
   "outputs": [],
   "source": [
    "# parameters for the figure\n",
    "vmin = int(np.min(gamma_matrix))\n",
    "vmax = 125.\n",
    "solutions = [[5,6]]\n",
    "norm = 1\n",
    "figsize = (4.33, 4.33)\n",
    "inset_position = (0.35, 0.95)\n",
    "dpi = 1200\n",
    "angles= [15, 40, 10,115]\n",
    "area = [8210, 8215, 475, 480]"
   ]
  },
  {
   "cell_type": "markdown",
   "metadata": {},
   "source": [
    "# Figures"
   ]
  },
  {
   "cell_type": "code",
   "execution_count": 15,
   "metadata": {},
   "outputs": [
    {
     "data": {
      "image/png": "[encoded data removed]",
      "text/plain": [
       "<Figure size 311.76x311.76 with 7 Axes>"
      ]
     },
     "metadata": {
      "needs_background": "light"
     },
     "output_type": "display_data"
    }
   ],
   "source": [
    "mfun.plot_diorama_solution(\n",
    "    inversion['x'], inversion['y'],\n",
    "    inversion['z'], inversion['results'][56][3],\n",
    "    inversion['results'][56][2][-1],\n",
    "    inversion['results'][56][2][0],\n",
    "    z0, intensity, gamma_matrix, vmin,\n",
    "    vmax, solutions, norm, figsize,\n",
    "    inset_position, dpi,\n",
    "    angles, area, filename\n",
    ")"
   ]
  }
 ],
 "metadata": {
  "kernelspec": {
   "display_name": "Python 2",
   "language": "python",
   "name": "python2"
  },
  "language_info": {
   "codemirror_mode": {
    "name": "ipython",
    "version": 2
   },
   "file_extension": ".py",
   "mimetype": "text/x-python",
   "name": "python",
   "nbconvert_exporter": "python",
   "pygments_lexer": "ipython2",
   "version": "2.7.16"
  }
 },
 "nbformat": 4,
 "nbformat_minor": 2
}
