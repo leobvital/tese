{
 "cells": [
  {
   "cell_type": "markdown",
   "metadata": {},
   "source": [
    "# Kimberlite TFA Inversion"
   ]
  },
  {
   "cell_type": "markdown",
   "metadata": {},
   "source": [
    "This notebook performs the inversion using Levenberg-Marquadt's algorithm of total field anomaly (TFA) data on a regular grid of a synthetic kimberlitic model."
   ]
  },
  {
   "cell_type": "code",
   "execution_count": 265,
   "metadata": {},
   "outputs": [],
   "source": [
    "import numpy as np\n",
    "import matplotlib.pyplot as plt\n",
    "import cPickle as pickle\n",
    "import os\n",
    "\n",
    "from fatiando import utils\n",
    "from fatiando.gravmag import polyprism\n",
    "from fatiando.mesher import PolygonalPrism\n",
    "from fatiando.vis import mpl"
   ]
  },
  {
   "cell_type": "markdown",
   "metadata": {},
   "source": [
    "### Auxiliary functions"
   ]
  },
  {
   "cell_type": "code",
   "execution_count": 266,
   "metadata": {
    "collapsed": true
   },
   "outputs": [],
   "source": [
    "import sys\n",
    "sys.path.insert(0, '../../code')\n",
    "\n",
    "import mag_polyprism_functions as mfun"
   ]
  },
  {
   "cell_type": "markdown",
   "metadata": {},
   "source": [
    "# Input"
   ]
  },
  {
   "cell_type": "markdown",
   "metadata": {},
   "source": [
    "### Importing model parameters"
   ]
  },
  {
   "cell_type": "code",
   "execution_count": 267,
   "metadata": {},
   "outputs": [],
   "source": [
    "model_dir = 'data/model.pickle'\n",
    "grid_dir = '../grids/flightlines_grid_2100pts_100km2_-150m.pickle'\n",
    "data_dir = 'data/flightlines_grid_2100pts_100k/data.pickle'"
   ]
  },
  {
   "cell_type": "code",
   "execution_count": 268,
   "metadata": {},
   "outputs": [],
   "source": [
    "with open(model_dir) as w:\n",
    "        model = pickle.load(w)"
   ]
  },
  {
   "cell_type": "markdown",
   "metadata": {},
   "source": [
    "### Observation points and observed data"
   ]
  },
  {
   "cell_type": "code",
   "execution_count": 269,
   "metadata": {
    "collapsed": true
   },
   "outputs": [],
   "source": [
    "with open(grid_dir) as w:\n",
    "        grid = pickle.load(w)"
   ]
  },
  {
   "cell_type": "code",
   "execution_count": 270,
   "metadata": {
    "collapsed": true
   },
   "outputs": [],
   "source": [
    "with open(data_dir) as w:\n",
    "        data = pickle.load(w)"
   ]
  },
  {
   "cell_type": "code",
   "execution_count": 271,
   "metadata": {},
   "outputs": [],
   "source": [
    "# observed data and observation points\n",
    "dobs = data['amf_obs']\n",
    "xp = grid['x']\n",
    "yp = grid['y']\n",
    "zp = grid['z']\n",
    "N = grid['N']"
   ]
  },
  {
   "cell_type": "markdown",
   "metadata": {},
   "source": [
    "### Parameters of the initial model"
   ]
  },
  {
   "cell_type": "code",
   "execution_count": 272,
   "metadata": {},
   "outputs": [],
   "source": [
    "M = 20 # number of vertices per prism\n",
    "L = 5 # number of prisms\n",
    "P = L*(M+2) + 1 # number of parameters\n",
    "\n",
    "# magnetization direction\n",
    "incs = model['inc'] - 5.\n",
    "decs = model['dec'] - 5.\n",
    "#incs, decs = data['main_field']\n",
    "\n",
    "# depth to the top, thickness and radius\n",
    "z0 = model['z0']# - 50.\n",
    "dz = 400.\n",
    "r = 2000.\n",
    "\n",
    "# total magnetization\n",
    "intensity = model['intensity']# + 1.\n",
    "props = {'magnetization': utils.ang2vec(\n",
    "        intensity, incs, decs)}\n",
    "rin = np.zeros(M) + r\n",
    "m0 = np.hstack((rin, np.zeros(2)))\n",
    "m0 = np.resize(m0, P - 1) \n",
    "m0 = np.hstack((m0, dz)) # inicial parameters vector\n",
    "model0 = mfun.param2polyprism(m0, M, L, z0, props) # list of classes of prisms\n",
    "\n",
    "# main field\n",
    "inc, dec = data['main_field']\n",
    "\n",
    "# predict data\n",
    "d0 = np.sqrt(polyprism.bx(xp, yp, zp, model0)**2. +\n",
    "             polyprism.by(xp, yp, zp, model0)**2. +\n",
    "             polyprism.bz(xp, yp, zp, model0)**2.)"
   ]
  },
  {
   "cell_type": "code",
   "execution_count": 273,
   "metadata": {},
   "outputs": [
    {
     "data": {
      "text/plain": [
       "2100"
      ]
     },
     "execution_count": 273,
     "metadata": {},
     "output_type": "execute_result"
    }
   ],
   "source": [
    "xp.size"
   ]
  },
  {
   "cell_type": "markdown",
   "metadata": {},
   "source": [
    "### Limits"
   ]
  },
  {
   "cell_type": "code",
   "execution_count": 274,
   "metadata": {},
   "outputs": [],
   "source": [
    "# limits for parameters in meters\n",
    "rmin = 10.\n",
    "rmax = 3000.\n",
    "x0min = -4000.\n",
    "x0max = 4000.\n",
    "y0min = -4000.\n",
    "y0max = 4000.\n",
    "dzmin = 10.\n",
    "dzmax = 1000.\n",
    "\n",
    "mmin, mmax = mfun.build_range_param(M, L, rmin, rmax, x0min, x0max, y0min, y0max, dzmin, dzmax)"
   ]
  },
  {
   "cell_type": "markdown",
   "metadata": {},
   "source": [
    "### Variation"
   ]
  },
  {
   "cell_type": "code",
   "execution_count": 275,
   "metadata": {},
   "outputs": [],
   "source": [
    "# variation for derivatives\n",
    "deltax = 0.01*np.max(1000)\n",
    "deltay = 0.01*np.max(1000)\n",
    "deltar = 0.01*np.max(1000)\n",
    "deltaz = 0.01*np.max(1000)"
   ]
  },
  {
   "cell_type": "markdown",
   "metadata": {},
   "source": [
    "### Outcropping parameters"
   ]
  },
  {
   "cell_type": "code",
   "execution_count": 276,
   "metadata": {},
   "outputs": [],
   "source": [
    "# outcropping body parameters\n",
    "m_out = np.zeros(M + 2)\n",
    "#m_out = model['param_vec'][:M+2]"
   ]
  },
  {
   "cell_type": "markdown",
   "metadata": {},
   "source": [
    "### Folder to save the results"
   ]
  },
  {
   "cell_type": "code",
   "execution_count": 277,
   "metadata": {},
   "outputs": [],
   "source": [
    "if grid_dir[9:20] == 'flightlines':\n",
    "    if incs == model['inc'] and decs == model['dec']:\n",
    "        mypath = data_dir[:-11]+'amf_inversion/inc%d_dec%d_r%d_int%d_z0%d_dz%d' % (incs, decs, rin[0], np.linalg.norm(props['magnetization']), z0, dz)\n",
    "        if not os.path.isdir(mypath):\n",
    "           os.makedirs(mypath)\n",
    "    else:\n",
    "        mypath = data_dir[:-11]+'amf_inversion/inc%d_dec%d_r%d_int%d_z0%d_dz%d' % (incs, decs, rin[0], np.linalg.norm(props['magnetization']), z0, dz)\n",
    "        if not os.path.isdir(mypath):\n",
    "           os.makedirs(mypath)\n",
    "else:\n",
    "    if incs == model['inc'] and decs == model['dec']:\n",
    "        mypath = data_dir[:-11]+'amf_inversion/inc%d_dec%d_r%d_int%d_z0%d_dz%d' % (incs, decs, rin[0], np.linalg.norm(props['magnetization']), z0, dz)\n",
    "        if not os.path.isdir(mypath):\n",
    "           os.makedirs(mypath)\n",
    "    else:\n",
    "        mypath = data_dir[:-11]+'amf_inversion/inc%d_dec%d_r%d_int%d_z0%d_dz%d' % (incs, decs, rin[0], np.linalg.norm(props['magnetization']), z0, dz)\n",
    "        if not os.path.isdir(mypath):\n",
    "           os.makedirs(mypath)"
   ]
  },
  {
   "cell_type": "code",
   "execution_count": 278,
   "metadata": {},
   "outputs": [],
   "source": [
    "# output of inversion\n",
    "inversion = dict()"
   ]
  },
  {
   "cell_type": "markdown",
   "metadata": {},
   "source": [
    "### Regularization parameters"
   ]
  },
  {
   "cell_type": "code",
   "execution_count": 279,
   "metadata": {
    "collapsed": true
   },
   "outputs": [],
   "source": [
    "#lamb = th*0.01 # Marquadt's parameter\n",
    "lamb = 10.0\n",
    "dlamb = 10.      # step for Marquadt's parameter\n",
    "\n",
    "a1 = 1.0e-3  # adjacent radial distances within each prism\n",
    "a2 = 1.0e-3   # vertically adjacent radial distances\n",
    "a3 = 0.     # outcropping cross-section\n",
    "a4 = 0.     # outcropping origin\n",
    "a5 = 1.0e-3     # vertically adjacent origins\n",
    "a6 = 1.0e-7   # zero order Tikhonov on adjacent radial distances\n",
    "a7 = 1.0e-5     # zero order Tikhonov on thickness of each prism"
   ]
  },
  {
   "cell_type": "code",
   "execution_count": 280,
   "metadata": {},
   "outputs": [],
   "source": [
    "delta = np.array([deltax, deltay, deltar, deltaz])\n",
    "alpha = np.array([a1, a2, a3, a4, a5, a6, a7])"
   ]
  },
  {
   "cell_type": "code",
   "execution_count": 281,
   "metadata": {},
   "outputs": [],
   "source": [
    "itmax = 30\n",
    "itmax_marq = 10\n",
    "tol = 1.0e-4     # stop criterion"
   ]
  },
  {
   "cell_type": "code",
   "execution_count": 282,
   "metadata": {},
   "outputs": [],
   "source": [
    "inversion['x'] = xp\n",
    "inversion['y'] = yp\n",
    "inversion['z'] = zp\n",
    "inversion['observed_data'] = dobs"
   ]
  },
  {
   "cell_type": "code",
   "execution_count": 283,
   "metadata": {},
   "outputs": [],
   "source": [
    "inversion['inc_dec'] = [incs, decs]\n",
    "inversion['z0'] = z0\n",
    "inversion['initial_dz'] = dz\n",
    "inversion['intial_r'] = r\n",
    "inversion['initial_estimate'] = model0\n",
    "inversion['initial_data'] = d0\n",
    "inversion['limits'] = [rmin, rmax, x0min, x0max, y0min, y0max, dzmin, dzmax]\n",
    "inversion['regularization'] = alpha\n",
    "inversion['tol'] = tol\n",
    "inversion['main_field'] = [data['main_field'][0], data['main_field'][1]]"
   ]
  },
  {
   "cell_type": "markdown",
   "metadata": {},
   "source": [
    "### Inversion"
   ]
  },
  {
   "cell_type": "code",
   "execution_count": 284,
   "metadata": {},
   "outputs": [
    {
     "name": "stdout",
     "output_type": "stream",
     "text": [
      "it:  0   it_marq:  0   lambda: 1e+01   init obj.: 3.27474e+05  fin obj.: 1.65289e+05\n",
      "it:  1   it_marq:  0   lambda: 1e+00   init obj.: 1.65289e+05  fin obj.: 5.48419e+04\n",
      "it:  2   it_marq:  0   lambda: 1e-01   init obj.: 5.48419e+04  fin obj.: 3.47536e+03\n",
      "it:  3   it_marq:  0   lambda: 1e-02   init obj.: 3.47536e+03  fin obj.: 1.13771e+03\n",
      "it:  4   it_marq:  0   lambda: 1e-03   init obj.: 1.13771e+03  fin obj.: 1.34695e+04\n",
      "it:  4   it_marq:  1   lambda: 1e-02   init obj.: 1.13771e+03  fin obj.: 7.23465e+03\n",
      "it:  4   it_marq:  2   lambda: 1e-01   init obj.: 1.13771e+03  fin obj.: 1.62815e+03\n",
      "it:  4   it_marq:  3   lambda: 1e+00   init obj.: 1.13771e+03  fin obj.: 9.60936e+02\n",
      "it:  5   it_marq:  0   lambda: 1e-01   init obj.: 9.60936e+02  fin obj.: 1.81715e+03\n",
      "it:  5   it_marq:  1   lambda: 1e+00   init obj.: 9.60936e+02  fin obj.: 9.81633e+02\n",
      "it:  5   it_marq:  2   lambda: 1e+01   init obj.: 9.60936e+02  fin obj.: 9.19289e+02\n",
      "it:  6   it_marq:  0   lambda: 1e+00   init obj.: 9.19289e+02  fin obj.: 9.59519e+02\n",
      "it:  6   it_marq:  1   lambda: 1e+01   init obj.: 9.19289e+02  fin obj.: 8.98091e+02\n",
      "it:  7   it_marq:  0   lambda: 1e+00   init obj.: 8.98091e+02  fin obj.: 9.46576e+02\n",
      "it:  7   it_marq:  1   lambda: 1e+01   init obj.: 8.98091e+02  fin obj.: 8.87764e+02\n",
      "it:  8   it_marq:  0   lambda: 1e+00   init obj.: 8.87764e+02  fin obj.: 9.39091e+02\n",
      "it:  8   it_marq:  1   lambda: 1e+01   init obj.: 8.87764e+02  fin obj.: 8.83430e+02\n",
      "it:  9   it_marq:  0   lambda: 1e+00   init obj.: 8.83430e+02  fin obj.: 9.34955e+02\n",
      "it:  9   it_marq:  1   lambda: 1e+01   init obj.: 8.83430e+02  fin obj.: 8.82513e+02\n",
      "it: 10   it_marq:  0   lambda: 1e+00   init obj.: 8.82513e+02  fin obj.: 9.32925e+02\n",
      "it: 10   it_marq:  1   lambda: 1e+01   init obj.: 8.82513e+02  fin obj.: 8.83595e+02\n",
      "it: 10   it_marq:  2   lambda: 1e+02   init obj.: 8.82513e+02  fin obj.: 8.81852e+02\n",
      "it: 11   it_marq:  0   lambda: 1e+01   init obj.: 8.81852e+02  fin obj.: 8.83391e+02\n",
      "it: 11   it_marq:  1   lambda: 1e+02   init obj.: 8.81852e+02  fin obj.: 8.81390e+02\n",
      "it: 12   it_marq:  0   lambda: 1e+01   init obj.: 8.81390e+02  fin obj.: 8.83292e+02\n",
      "it: 12   it_marq:  1   lambda: 1e+02   init obj.: 8.81390e+02  fin obj.: 8.81091e+02\n",
      "it: 13   it_marq:  0   lambda: 1e+01   init obj.: 8.81091e+02  fin obj.: 8.83278e+02\n",
      "it: 13   it_marq:  1   lambda: 1e+02   init obj.: 8.81091e+02  fin obj.: 8.80928e+02\n",
      "it: 14   it_marq:  0   lambda: 1e+01   init obj.: 8.80928e+02  fin obj.: 8.83335e+02\n",
      "it: 14   it_marq:  1   lambda: 1e+02   init obj.: 8.80928e+02  fin obj.: 8.80875e+02\n"
     ]
    }
   ],
   "source": [
    "d_fit, m_est, model_est, phi_list, model_list, res_list = mfun.levmarq_amf(\n",
    "    xp, yp, zp, m0, M, L, delta,\n",
    "    itmax, itmax_marq, lamb,\n",
    "    dlamb, tol, mmin, mmax,\n",
    "    m_out, dobs, props, alpha, z0, dz\n",
    ")"
   ]
  },
  {
   "cell_type": "markdown",
   "metadata": {},
   "source": [
    "# Results"
   ]
  },
  {
   "cell_type": "code",
   "execution_count": 285,
   "metadata": {},
   "outputs": [],
   "source": [
    "inversion['data_fit'] = d_fit\n",
    "inversion['estimate'] = m_est\n",
    "inversion['prisms'] = model_est\n",
    "inversion['estimated_models'] = model_list\n",
    "inversion['objective'] = phi_list\n",
    "inversion['residual'] = dobs - d_fit\n",
    "inversion['residual_list'] = res_list"
   ]
  },
  {
   "cell_type": "code",
   "execution_count": 286,
   "metadata": {},
   "outputs": [],
   "source": [
    "file_name = mypath+'/inversion.pickle'\n",
    "with open(file_name, 'w') as f:\n",
    "    pickle.dump(inversion, f)"
   ]
  }
 ],
 "metadata": {
  "anaconda-cloud": {},
  "kernelspec": {
   "display_name": "Python 2",
   "language": "python",
   "name": "python2"
  },
  "language_info": {
   "codemirror_mode": {
    "name": "ipython",
    "version": 2
   },
   "file_extension": ".py",
   "mimetype": "text/x-python",
   "name": "python",
   "nbconvert_exporter": "python",
   "pygments_lexer": "ipython2",
   "version": "2.7.15"
  }
 },
 "nbformat": 4,
 "nbformat_minor": 2
}
