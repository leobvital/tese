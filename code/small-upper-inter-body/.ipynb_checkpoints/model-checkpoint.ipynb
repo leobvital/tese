{
 "cells": [
  {
   "cell_type": "markdown",
   "metadata": {},
   "source": [
    "# Synthetic complex model"
   ]
  },
  {
   "cell_type": "markdown",
   "metadata": {},
   "source": [
    "This notebook creates a model simulating an complex with magnetization using the poligonal prisms from fatiando and save its parameters in an outer file."
   ]
  },
  {
   "cell_type": "code",
   "execution_count": 1,
   "metadata": {},
   "outputs": [],
   "source": [
    "import numpy as np\n",
    "import matplotlib.pyplot as plt\n",
    "import cPickle as pickle\n",
    "import os\n",
    "from scipy import signal\n",
    "\n",
    "from fatiando import utils\n",
    "from mpl_toolkits.mplot3d import Axes3D\n",
    "from mpl_toolkits.mplot3d.art3d import Poly3DCollection"
   ]
  },
  {
   "cell_type": "markdown",
   "metadata": {},
   "source": [
    "### Auxiliary functions"
   ]
  },
  {
   "cell_type": "code",
   "execution_count": 2,
   "metadata": {},
   "outputs": [
    {
     "name": "stderr",
     "output_type": "stream",
     "text": [
      "/home/leonardo/anaconda2/lib/python2.7/site-packages/fatiando/vis/mpl.py:76: UserWarning: This module will be removed in v0.6. We recommend the use of matplotlib.pyplot module directly. Some of the fatiando specific functions will remain.\n",
      "  \"specific functions will remain.\")\n"
     ]
    }
   ],
   "source": [
    "import sys\n",
    "sys.path.insert(0, '../../code')\n",
    "\n",
    "import mag_polyprism_functions as mfun"
   ]
  },
  {
   "cell_type": "markdown",
   "metadata": {},
   "source": [
    "### Creating the model"
   ]
  },
  {
   "cell_type": "code",
   "execution_count": 3,
   "metadata": {
    "collapsed": true
   },
   "outputs": [],
   "source": [
    "model = dict()"
   ]
  },
  {
   "cell_type": "code",
   "execution_count": 4,
   "metadata": {},
   "outputs": [],
   "source": [
    "# model parameters\n",
    "model['M'] = 30 # number of vertices per prism\n",
    "model['L'] = 10 # number of prisms\n",
    "model['P'] = model['L']*(model['M']+2) # number of parameters\n",
    "\n",
    "model['z0'] = 130.    # depth of the top the shallowest prism\n",
    "model['dz'] = 600.    # thickness of each prism\n",
    "\n",
    "model['inc'] = -50.  # inclination\n",
    "model['dec'] = 9.   # declination\n",
    "model['intensity'] = 12. # intensity\n",
    "\n",
    "model['props']={'magnetization': utils.ang2vec(\n",
    "    model['intensity'], model['inc'], model['dec'])} # physical property: magnetization\n",
    "\n",
    "#ri = np.linspace(1000., 200., model['M']*model['L']) # radial distance for each vertice\n",
    "#rand = np.random.uniform(0.8, 1., model['M']*model['L'])\n",
    "#r = ri*rand\n",
    "\n",
    "#r = np.random.uniform(low=400., high=700., size=model['M'])\n",
    "#r = signal.medfilt(r)\n",
    "r = np.array([ 513.8863825 ,  608.66242761,  608.66242761,  639.21917548,\n",
    "                554.40019092,  651.54224441,  666.06947764,  666.06947764,\n",
    "                568.66501881,  568.66501881,  625.57161505,  625.57161505,\n",
    "                522.11037285,  522.11037285,  542.90744237,  542.90744237,\n",
    "                405.92270651,  405.92270651,  549.6901502 ,  636.54706803,\n",
    "                551.61570786,  582.77644177,  582.77644177,  582.77644177,\n",
    "                464.08301193,  464.08301193,  407.89472325,  407.98706731,\n",
    "                407.98706731,  407.98706731])\n",
    "rs = []\n",
    "#r = np.zeros((model['L'],1),dtype=r.dtype) + r\n",
    "#r = np.repeat(r[None],model['M'],axis=0)\n",
    "\n",
    "scale = np.array([1.2, 1.4, 1.6, 1., 1.,\n",
    "                  0.7, 0.6, 2., 2.2, 2.2])\n",
    "\n",
    "for i in range(model['L']):\n",
    "    rs.append(r*scale[i])"
   ]
  },
  {
   "cell_type": "code",
   "execution_count": 5,
   "metadata": {},
   "outputs": [],
   "source": [
    "# Cartesian coordinates of the origin of each prism\n",
    "x0 = np.linspace(-250., 750., model['L'])\n",
    "y0 = np.linspace(250., -750., model['L'])\n",
    "#y0 = np.sqrt(1500.**2. - (x0 - 1000.)**2.) - 500.\n",
    "l = []   # list of parameters of the prisms\n",
    "\n",
    "for i, (r, x, y) in enumerate(zip(rs, x0, y0)):\n",
    "    l.append([r, x, y,\n",
    "             model['z0'] + model['dz']*i,\n",
    "             model['z0'] + model['dz']*(i + 1),\n",
    "              model['props']])\n",
    "\n",
    "#for i in range(model['L']):\n",
    "#    l.append([r*(-150.*i*i/11. + 3150.*i/11. + 500.), x0[i], y0[i], model['z0'] + model['dz']*i,\\\n",
    "#          model['z0'] + model['dz']*(i + 1), model['props']])\n",
    "\n",
    "model['prisms'] = mfun.pol2cart(l, model['M'], model['L'])\n",
    "model['param_vec'] = mfun.param_vec(l, model['M'], model['L'])"
   ]
  },
  {
   "cell_type": "code",
   "execution_count": 6,
   "metadata": {},
   "outputs": [
    {
     "data": {
      "text/plain": [
       "[<fatiando.mesher.PolygonalPrism at 0x7fe59196a350>,\n",
       " <fatiando.mesher.PolygonalPrism at 0x7fe59196a390>,\n",
       " <fatiando.mesher.PolygonalPrism at 0x7fe59196a3d0>,\n",
       " <fatiando.mesher.PolygonalPrism at 0x7fe59196a410>,\n",
       " <fatiando.mesher.PolygonalPrism at 0x7fe59196a450>,\n",
       " <fatiando.mesher.PolygonalPrism at 0x7fe59196a490>,\n",
       " <fatiando.mesher.PolygonalPrism at 0x7fe59196a4d0>,\n",
       " <fatiando.mesher.PolygonalPrism at 0x7fe59196a510>,\n",
       " <fatiando.mesher.PolygonalPrism at 0x7fe59196a550>,\n",
       " <fatiando.mesher.PolygonalPrism at 0x7fe59196a590>,\n",
       " <fatiando.mesher.PolygonalPrism at 0x7fe5919c3c50>]"
      ]
     },
     "execution_count": 6,
     "metadata": {},
     "output_type": "execute_result"
    }
   ],
   "source": [
    "# interfering body\n",
    "#ri = np.random.uniform(low=200., high=300., size=15)\n",
    "\n",
    "ri = np.array([271.73471463, 278.61158313, 278.68568553, 276.50102288,\n",
    "               254.16415317, 277.73043811, 283.95953863, 296.49928136,\n",
    "               228.92328143, 295.14483121, 276.81495276, 290.54063945,\n",
    "               273.79161776, 236.72775967, 287.56456328])*1.5\n",
    "\n",
    "x0i = -250.\n",
    "y0i = 250.\n",
    "\n",
    "inci = -50  # inclination\n",
    "deci = 9.   # declination\n",
    "inti = 12. # intensity\n",
    "propi = {'magnetization': utils.ang2vec(inti, inci, deci)}\n",
    "\n",
    "li = [[ri, x0i, y0i, 0., 70., propi]]\n",
    "prismi = mfun.pol2cart(li, 15, 1)\n",
    "model['prisms'].append(prismi[0])\n",
    "model['prisms']"
   ]
  },
  {
   "cell_type": "code",
   "execution_count": 7,
   "metadata": {},
   "outputs": [
    {
     "data": {
      "text/plain": [
       "array([ 157.60207194,  131.78651932,   29.71568261, -121.83472745,\n",
       "       -289.85108252, -458.29782858, -594.5921387 , -685.03009102,\n",
       "       -585.88113772, -608.16577638, -457.61121457, -295.55464984,\n",
       "       -123.09060579,  -12.39731595,  144.05495085])"
      ]
     },
     "execution_count": 7,
     "metadata": {},
     "output_type": "execute_result"
    }
   ],
   "source": [
    "model['prisms'][-1].x"
   ]
  },
  {
   "cell_type": "markdown",
   "metadata": {},
   "source": [
    "### Model ploting"
   ]
  },
  {
   "cell_type": "code",
   "execution_count": 13,
   "metadata": {},
   "outputs": [
    {
     "data": {
      "image/png": "[encoded data removed]",
      "text/plain": [
       "<Figure size 288x288 with 1 Axes>"
      ]
     },
     "metadata": {
      "needs_background": "light"
     },
     "output_type": "display_data"
    }
   ],
   "source": [
    "verts = mfun.plot_prisms(model['prisms'])\n",
    "\n",
    "fig = plt.figure(figsize=(4,4))\n",
    "ax = fig.add_subplot(111, projection='3d')\n",
    "\n",
    "# plot sides\n",
    "ax.add_collection3d(Poly3DCollection(verts[:-17], \n",
    "alpha=0.4, facecolor='b', linewidths=1.5, edgecolors='k'))\n",
    "ax.add_collection3d(Poly3DCollection(verts[-17:], \n",
    "alpha=1, facecolor='y', linewidths=1.5, edgecolors='k'))\n",
    "\n",
    "ax.set_xlim(-3000, 3000, 100)\n",
    "ax.set_ylim(-3000, 3000, 100)\n",
    "ax.set_zlim(model['prisms'][-2].z2+100, -50, 100)\n",
    "ax.tick_params(labelsize= 6, pad=8)\n",
    "ax.set_xlabel('Y (km)', fontsize= 6)\n",
    "ax.set_ylabel('X (km)', fontsize= 6)\n",
    "ax.set_zlabel('Z (km)', fontsize= 6)\n",
    "ax.set_xticklabels(np.linspace(-3, 3, 7))\n",
    "ax.set_yticklabels(np.linspace(-3, 3, 7))\n",
    "ax.set_zticklabels(np.linspace(0, 2, 9))\n",
    "ax.yaxis.labelpad=20\n",
    "ax.zaxis.labelpad=20\n",
    "ax.xaxis.labelpad=20\n",
    "ax.view_init(10, -80)\n",
    "\n",
    "plt.savefig('model.png', dpi=1200, bbox_inches=\"tight\")\n",
    "plt.show()"
   ]
  },
  {
   "cell_type": "markdown",
   "metadata": {},
   "source": [
    "### Saving in an outer file"
   ]
  },
  {
   "cell_type": "code",
   "execution_count": 9,
   "metadata": {},
   "outputs": [],
   "source": [
    "file_name = 'model.pickle'\n",
    "with open(file_name, 'w') as f:\n",
    "    pickle.dump(model, f)"
   ]
  }
 ],
 "metadata": {
  "kernelspec": {
   "display_name": "Python 2",
   "language": "python",
   "name": "python2"
  },
  "language_info": {
   "codemirror_mode": {
    "name": "ipython",
    "version": 2
   },
   "file_extension": ".py",
   "mimetype": "text/x-python",
   "name": "python",
   "nbconvert_exporter": "python",
   "pygments_lexer": "ipython2",
   "version": "2.7.16"
  }
 },
 "nbformat": 4,
 "nbformat_minor": 2
}
